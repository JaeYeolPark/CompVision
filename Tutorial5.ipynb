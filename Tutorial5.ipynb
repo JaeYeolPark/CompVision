{
 "cells": [
  {
   "cell_type": "markdown",
   "metadata": {},
   "source": [
    "## Boolean Expressions"
   ]
  },
  {
   "cell_type": "markdown",
   "metadata": {},
   "source": [
    "## True and False"
   ]
  },
  {
   "cell_type": "markdown",
   "metadata": {},
   "source": [
    "###  True and False are constants\n",
    "###  Other values are treated as equivalent to either True or False when used in conditionals:\n",
    "####  False: zero, None, empty containers\n",
    "####  True: non-zero numbers, non-empty objects\n",
    "####  See PEP 8 for the most Pythonic ways to compare\n",
    "###  Comparison operators: ==, !=, <, <=, etc.\n",
    "####  X == Y\n",
    "#####  X and Y have same value (like Java equals method)\n",
    "####  X is Y :\n",
    "#####  X and Y refer to the exact same object (like Java ==)\n"
   ]
  },
  {
   "cell_type": "markdown",
   "metadata": {},
   "source": [
    "## Logical Operators\n",
    "###  You can also combine Boolean expressions.\n",
    "####  True if a is True and b is True: a and b\n",
    "####  True if a is True or b is True: a or b\n",
    "####  True if a is False: not a\n"
   ]
  },
  {
   "cell_type": "markdown",
   "metadata": {},
   "source": [
    "## Conditional Expressions\n",
    "###  x = true_value if condition else false_value\n",
    "###  lazy evaluation:\n",
    "####  First, condition is evaluated\n",
    "####  If True, true_value is evaluated and returned\n",
    "####  If False, false_value is evaluated and returned"
   ]
  },
  {
   "cell_type": "code",
   "execution_count": null,
   "metadata": {},
   "outputs": [],
   "source": []
  }
 ],
 "metadata": {
  "kernelspec": {
   "display_name": "Python 3",
   "language": "python",
   "name": "python3"
  },
  "language_info": {
   "codemirror_mode": {
    "name": "ipython",
    "version": 3
   },
   "file_extension": ".py",
   "mimetype": "text/x-python",
   "name": "python",
   "nbconvert_exporter": "python",
   "pygments_lexer": "ipython3",
   "version": "3.8.3"
  }
 },
 "nbformat": 4,
 "nbformat_minor": 4
}
